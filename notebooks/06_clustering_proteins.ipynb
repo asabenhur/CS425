{
 "cells": [
  {
   "cell_type": "markdown",
   "metadata": {},
   "source": [
    "<a href=\"https://colab.research.google.com/github//asabenhur/CS425/blob/master/notebooks/06_clustering_proteins.ipynb\">\n",
    "  <img align=\"left\" src=\"https://colab.research.google.com/assets/colab-badge.svg\" alt=\"Open In Colab\"/>\n",
    "</a>"
   ]
  },
  {
   "cell_type": "markdown",
   "metadata": {
    "nbgrader": {
     "grade": false,
     "grade_id": "cell-35bd2cc21b2e9063",
     "locked": true,
     "schema_version": 3,
     "solution": false
    }
   },
   "source": [
    "# Clustering protein sequences\n",
    "\n",
    "The objective of this notebook is to compute a similarity matrix that will useful for clustering protein sequences and ordering the sequences for creating a multiple sequence alignment.\n"
   ]
  },
  {
   "cell_type": "code",
   "execution_count": 1,
   "metadata": {
    "nbgrader": {
     "grade": false,
     "grade_id": "cell-ee7308ced81b5cf9",
     "locked": true,
     "schema_version": 3,
     "solution": false
    }
   },
   "outputs": [],
   "source": [
    "import numpy as np\n",
    "from matplotlib import pyplot as plt\n",
    "%matplotlib inline"
   ]
  },
  {
   "cell_type": "markdown",
   "metadata": {},
   "source": [
    "## Sequence similarity computed using shared k-mers\n",
    "\n",
    "Your first task is to write code that computes sequence similarity using shared k-mers.\n",
    "We define\n",
    "\n",
    "$$\\mathrm{sim}(s1, s2, k) = \\sum_{\\mathrm{kmer \\in s1}} \\min(\\mathrm{counts}(kmer, s1), \\mathrm{counts}(kmer, s2) ),$$\n",
    "\n",
    "where $s1,s2$ are two protein sequences, $k$ is the kmer length and $\\mathrm{counts}(kmer, s)$ is the number of times the given kmer appears in the sequence $s$.\n",
    "\n",
    "For example, if \n",
    "\n",
    "s1 = `ACGTATACACGTAT` and s2 = `TATCGGTATATCCTAC` we have \n",
    "\n",
    "$$\\mathrm{sim}(s1, s2, 3) = 1 + 1 + 1 + 2 = 5$$\n",
    "\n",
    "Because of the shared kmers `ATA`, `TAC`, `TAT`, and `GTA`.\n",
    "\n",
    "This measure of similarity is then normalized to be between 0 and 1:\n",
    "\n",
    "$$\\mathrm{sim}_{norm}(s1, s2, k) = \\frac{\\mathrm{sim}(s1, s2, k)}{\\max( \\mathrm{sim}(s1, s1, k), \\mathrm{sim}(s2, s2, k) }$$\n",
    "\n",
    "For your convenience here is my parser for fasta files:"
   ]
  },
  {
   "cell_type": "code",
   "execution_count": 2,
   "metadata": {},
   "outputs": [],
   "source": [
    "\"\"\"\n",
    "A parser for FASTA files.\n",
    "\n",
    "It can handle files that are local or on the web.\n",
    "Gzipped files do not need to be unzipped.\n",
    "\"\"\"\n",
    "\n",
    "import os\n",
    "from urllib.request import urlopen\n",
    "\n",
    "def myopen(fileName) :\n",
    "\n",
    "    if not ( os.path.exists(fileName) and os.path.isfile(fileName) ):\n",
    "        raise ValueError('file does not exist at %s' % fileName)\n",
    "    \n",
    "    import gzip\n",
    "    fileHandle = gzip.GzipFile(fileName)\n",
    "\n",
    "    gzippedFile = True\n",
    "    try :\n",
    "        line = fileHandle.readline()\n",
    "        fileHandle.close()\n",
    "    except :\n",
    "        gzippedFile = False\n",
    "\n",
    "    if gzippedFile :\n",
    "        return gzip.GzipFile(fileName)\n",
    "    else :\n",
    "        return open(fileName)\n",
    "\n",
    "\n",
    "class MalformedInput :\n",
    "    \"Exception raised when the input file does not look like a fasta file.\"\n",
    "    pass\n",
    "\n",
    "class FastaRecord :\n",
    "    \"\"\"Represents a record in a fasta file.\"\"\"\n",
    "    def __init__(self, header, sequence):\n",
    "        \"\"\"Create a record with the given header and sequence.\"\"\"\n",
    "        self.header = header\n",
    "        self.sequence = sequence\n",
    "    def __str__(self) :\n",
    "        return '>' + self.header + '\\n' + self.sequence + '\\n'\n",
    "\n",
    "    \n",
    "def _fasta_itr_from_file(file_handle) :\n",
    "    \"Provide an iteration through the fasta records in file.\"\n",
    "\n",
    "    h = file_handle.readline()[:-1]\n",
    "    if h[0] != '>':\n",
    "        raise MalformedInput()\n",
    "    h = h[1:]\n",
    "\n",
    "    seq = []\n",
    "    for line in file_handle:\n",
    "        line = line[:-1] # remove newline\n",
    "        if line[0] == '>':\n",
    "            yield FastaRecord(h,''.join(seq))\n",
    "            h = line[1:]\n",
    "            seq = []\n",
    "            continue\n",
    "        seq.append(line)\n",
    "\n",
    "    yield FastaRecord(h,''.join(seq))\n",
    "\n",
    "        \n",
    "def _fasta_itr_from_web(file_handle) :\n",
    "    \"Iterate through a fasta file posted on the web.\"\n",
    "\n",
    "    h = file_handle.readline().decode(\"utf-8\")[:-1]\n",
    "    if h[0] != '>':\n",
    "        raise MalformedInput()\n",
    "    h = h[1:]\n",
    "\n",
    "    seq = []\n",
    "    for line in file_handle:\n",
    "        line = line.decode(\"utf-8\")[:-1] # remove newline\n",
    "        if line[0] == '>':\n",
    "            yield FastaRecord(h,''.join(seq))\n",
    "            h = line[1:]\n",
    "            seq = []\n",
    "            continue\n",
    "        seq.append(line)\n",
    "\n",
    "    yield FastaRecord(h,''.join(seq))\n",
    "\n",
    "\n",
    "\n",
    "def _fasta_itr_from_name(fname):\n",
    "    \"Iterate through a fasta file with the given name.\"\n",
    "\n",
    "    f = myopen(fname)\n",
    "    for rec in _fasta_itr_from_file(f) :\n",
    "        yield rec\n",
    "\n",
    "\n",
    "def _fasta_itr(src):\n",
    "    \"\"\"Provide an iteration through the fasta records in file `src'.\n",
    "    \n",
    "    Here `src' can be either a file name or a url of a file.\n",
    "    \"\"\"\n",
    "    if type(src) == str :\n",
    "        if src.find(\"http\")>=0 :\n",
    "            file_handle = urlopen(src)\n",
    "            return _fasta_itr_from_web(file_handle)\n",
    "        else :\n",
    "            return _fasta_itr_from_name(src)\n",
    "    else:\n",
    "        raise TypeError\n",
    "\n",
    "    \n",
    "class fasta_itr (object) :\n",
    "    \"\"\"An iterator through a Fasta file\"\"\"\n",
    "\n",
    "    def __init__(self, src) :\n",
    "        \"\"\"Create an iterator through the records in src.\"\"\"\n",
    "        self.__itr = _fasta_itr(src)\n",
    "\n",
    "    def __iter__(self) :\n",
    "        return self\n",
    "\n",
    "    def __next__(self) :\n",
    "        return self.__itr.__next__()\n",
    "\n"
   ]
  },
  {
   "cell_type": "markdown",
   "metadata": {},
   "source": [
    "For our analysis we'll read a collection of sequence that represent globin-like proteins (hemoglobin, and myoglobin):"
   ]
  },
  {
   "cell_type": "code",
   "execution_count": 3,
   "metadata": {},
   "outputs": [],
   "source": [
    "fasta_url = \"https://raw.githubusercontent.com/asabenhur/CS425/main/data/globins.fasta\"\n",
    "sequences = [record.sequence for record in fasta_itr(fasta_url)]"
   ]
  },
  {
   "cell_type": "code",
   "execution_count": 4,
   "metadata": {},
   "outputs": [
    {
     "data": {
      "text/plain": [
       "136"
      ]
     },
     "execution_count": 4,
     "metadata": {},
     "output_type": "execute_result"
    }
   ],
   "source": [
    "len(sequences)"
   ]
  },
  {
   "cell_type": "markdown",
   "metadata": {},
   "source": [
    "Using these sequences compute a matrix of similarities that stores the similarity between all pairs of sequences.  I suggest splitting the code into two functions:"
   ]
  },
  {
   "cell_type": "code",
   "execution_count": 5,
   "metadata": {},
   "outputs": [],
   "source": [
    "def kmer_similarity(seq1, seq2, k) :\n",
    "    \"\"\"Returns the k-mer normalized similarity between\n",
    "    two sequences as described above.  s1 and s2 are the two \n",
    "    sequences, and k is the k-mer length.\"\"\"\n",
    "    return 0.0"
   ]
  },
  {
   "cell_type": "code",
   "execution_count": 6,
   "metadata": {},
   "outputs": [],
   "source": [
    "def similarity_matrix(sequences, k) :\n",
    "    \"\"\"Compute the similarity matrix for a list of sequences\n",
    "    with a k-mer length of k\"\"\"\n",
    "    return np.zeros((len(sequences), len(sequences)),np.float)\n",
    "    "
   ]
  },
  {
   "cell_type": "markdown",
   "metadata": {},
   "source": [
    "Let's use the following code-snippet to visualize the matrix of similarities:"
   ]
  },
  {
   "cell_type": "code",
   "execution_count": 8,
   "metadata": {},
   "outputs": [
    {
     "data": {
      "image/png": "[encoded data removed]",
      "text/plain": [
       "<Figure size 432x288 with 1 Axes>"
      ]
     },
     "metadata": {
      "needs_background": "light"
     },
     "output_type": "display_data"
    }
   ],
   "source": [
    "# first compute the matrix of similarities.  This assumes that\n",
    "# the variable sim is a square matrix.\n",
    "# for show, I am using a matrix with random numbers:\n",
    "from numpy.random import default_rng\n",
    "rng = default_rng()\n",
    "sim = rng.uniform(size=(100, 100))\n",
    "plt.imshow(sim, cmap=\"Blues\", alpha=0.7);"
   ]
  },
  {
   "cell_type": "markdown",
   "metadata": {},
   "source": [
    "### Question:\n",
    "\n",
    "Explore the data for different values of $k$.  Which value or range of values seem to provide a useful result?\n",
    "Comment on what you're seeing using this visualization."
   ]
  },
  {
   "cell_type": "markdown",
   "metadata": {},
   "source": [
    "*your answer here*"
   ]
  },
  {
   "cell_type": "markdown",
   "metadata": {},
   "source": [
    "### Clustering the matrix\n",
    "\n",
    "Next we will use the scikit-learn implementation of hierarchical clustering to compute a clustering of our data."
   ]
  },
  {
   "cell_type": "code",
   "execution_count": null,
   "metadata": {},
   "outputs": [],
   "source": [
    "from sklearn.cluster import AgglomerativeClustering"
   ]
  },
  {
   "cell_type": "markdown",
   "metadata": {},
   "source": [
    "First, we need to convert the matrix of similarities to dissimilarities, since that is what the scikit-learn code expects:"
   ]
  },
  {
   "cell_type": "code",
   "execution_count": null,
   "metadata": {},
   "outputs": [],
   "source": [
    "dist = 1-sim"
   ]
  },
  {
   "cell_type": "code",
   "execution_count": null,
   "metadata": {},
   "outputs": [],
   "source": [
    "clusterer = AgglomerativeClustering(\n",
    "    affinity='precomputed', n_clusters=5, linkage='complete')\n",
    "clusterer = clusterer.fit(dist)\n",
    "clusterer.labels_"
   ]
  },
  {
   "cell_type": "markdown",
   "metadata": {},
   "source": [
    "### Question:\n",
    "\n",
    "Explore the various linkage functions described in the documentation of the scikit-learn documentation of the [AgglomerativeClustering](https://scikit-learn.org/stable/modules/generated/sklearn.cluster.AgglomerativeClustering.html) class.  Which linkage function provides a result which best captures the cluster structure that you have observed in the visualization above?"
   ]
  },
  {
   "cell_type": "markdown",
   "metadata": {},
   "source": [
    "*your answer here*"
   ]
  },
  {
   "cell_type": "code",
   "execution_count": null,
   "metadata": {},
   "outputs": [],
   "source": []
  }
 ],
 "metadata": {
  "celltoolbar": "Create Assignment",
  "kernelspec": {
   "display_name": "Python 3",
   "language": "python",
   "name": "python3"
  },
  "language_info": {
   "codemirror_mode": {
    "name": "ipython",
    "version": 3
   },
   "file_extension": ".py",
   "mimetype": "text/x-python",
   "name": "python",
   "nbconvert_exporter": "python",
   "pygments_lexer": "ipython3",
   "version": "3.7.6"
  }
 },
 "nbformat": 4,
 "nbformat_minor": 2
}
