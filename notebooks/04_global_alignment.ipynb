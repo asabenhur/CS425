{
 "cells": [
  {
   "cell_type": "markdown",
   "metadata": {},
   "source": [
    "<a href=\"https://colab.research.google.com/github//asabenhur/CS425/blob/master/notebooks/04_global_alignment.ipynb\">\n",
    "  <img align=\"left\" src=\"https://colab.research.google.com/assets/colab-badge.svg\" alt=\"Open In Colab\"/>\n",
    "</a>"
   ]
  },
  {
   "cell_type": "markdown",
   "metadata": {
    "nbgrader": {
     "grade": false,
     "grade_id": "cell-35bd2cc21b2e9063",
     "locked": true,
     "schema_version": 3,
     "solution": false
    }
   },
   "source": [
    "# Global Alignment:  The Needleman Wunsch Algorithm\n",
    "\n",
    "The objective of this notebook is to help you familiarize yourself with the Needleman Wunsch algorithm for pairwise alignment of sequences."
   ]
  },
  {
   "cell_type": "code",
   "execution_count": 1,
   "metadata": {
    "nbgrader": {
     "grade": false,
     "grade_id": "cell-ee7308ced81b5cf9",
     "locked": true,
     "schema_version": 3,
     "solution": false
    }
   },
   "outputs": [],
   "source": [
    "import numpy as np"
   ]
  },
  {
   "cell_type": "code",
   "execution_count": 2,
   "metadata": {},
   "outputs": [],
   "source": [
    "# to print colored arrows you will need the termcolor module\n",
    "# if you don't have it, traceback arrows will be printed \n",
    "# without color\n",
    "color = True\n",
    "try :\n",
    "    from termcolor import colored\n",
    "except :\n",
    "    color = False\n",
    "\n",
    "# the three directions you can go in the traceback:\n",
    "DIAG = 0 \n",
    "UP = 1 \n",
    "LEFT = 2\n",
    "# UTF-8 representations of arrow symbols\n",
    "# arrows[DIAG] is a diagonal arrow\n",
    "# arrows[UP] is an up arrow\n",
    "# arrows[LEFT] is a left\n",
    "arrows = [u\"\\u2196\", u\"\\u2191\", u\"\\u2190\"]\n",
    "\n",
    "def needleman_wunsch_matrix(seq1, seq2, \n",
    "                            match=1, mismatch=-1, indel=-1):\n",
    "    \"\"\"\n",
    "    Fill the DP matrix according to the Needleman-Wunsch \n",
    "    algorithm for two sequences seq1 and seq2.\n",
    "    match:  the match score\n",
    "    mismatch:  the mismatch score\n",
    "    indel:  the indel score\n",
    "    \n",
    "    Returns the matrix of scores and the matrix of pointers\n",
    "    \"\"\"\n",
    "    n = len(seq1)\n",
    "    m = len(seq2)\n",
    "    s = np.zeros( (n+1, m+1) ) # DP matrix\n",
    "    ptr = np.zeros( (n+1, m+1), dtype=int  ) # matrix of pointers\n",
    "\n",
    "    ##### INITIALIZE SCORING MATRIX (base case) #####\n",
    "\n",
    "    for i in range(1, n+1) :\n",
    "        s[i,0] = indel * i\n",
    "    for j in range(1, m+1):\n",
    "        s[0,j] = indel * j\n",
    "        \n",
    "    ########## INITIALIZE TRACEBACK MATRIX ##########\n",
    "\n",
    "    # Tag first row by LEFT, indicating initial '-'s\n",
    "    ptr[0,1:] = LEFT\n",
    "        \n",
    "    # Tag first column by UP, indicating initial '-'s\n",
    "    ptr[1:,0] = UP\n",
    "\n",
    "    #####################################################\n",
    "\n",
    "    for i in range(1,n+1):\n",
    "        for j in range(1,m+1): \n",
    "            # match\n",
    "            if seq1[i-1] == seq2[j-1]:\n",
    "                s[i,j] = s[i-1,j-1] + match\n",
    "                ptr[i,j] = DIAG\n",
    "            # mismatch\n",
    "            else :\n",
    "                s[i,j] = s[i-1,j-1] + mismatch\n",
    "                ptr[i,j] = DIAG\n",
    "            # indel penalty\n",
    "            if s[i-1,j] + indel > s[i,j] :\n",
    "                s[i,j] = s[i-1,j] + indel\n",
    "                ptr[i,j] = UP\n",
    "            # indel penalty\n",
    "            if s[i, j-1] + indel > s[i,j]:\n",
    "                s[i,j] = s[i, j-1] + indel\n",
    "                ptr[i,j] = LEFT\n",
    "\n",
    "    return s, ptr\n",
    "\n",
    "def needleman_wunsch_trace(seq1, seq2, s, ptr) :\n",
    "\n",
    "    #### TRACE BEST PATH TO GET ALIGNMENT ####\n",
    "    align1 = \"\"\n",
    "    align2 = \"\"\n",
    "    n, m = (len(seq1), len(seq2))\n",
    "    i = n\n",
    "    j = m\n",
    "    curr = ptr[i, j]\n",
    "    while (i > 0 or j > 0):        \n",
    "        ptr[i,j] += 3\n",
    "        if curr == DIAG :            \n",
    "            align1 = seq1[i-1] + align1\n",
    "            align2 = seq2[j-1] + align2\n",
    "            i -= 1\n",
    "            j -= 1            \n",
    "        elif curr == LEFT:\n",
    "            align1 = '-' + align1\n",
    "            align2 = seq2[j-1] + align2\n",
    "            j -= 1            \n",
    "        elif curr == UP:\n",
    "            align1 = seq1[i-1] + align1\n",
    "            align2 = '-' + align2\n",
    "            i -= 1\n",
    "           \n",
    "        curr = ptr[i,j]\n",
    "\n",
    "    return align1, align2\n"
   ]
  },
  {
   "cell_type": "code",
   "execution_count": 3,
   "metadata": {},
   "outputs": [],
   "source": [
    "def show_ptr_matrix(ptr, seq1, seq2) :\n",
    "\n",
    "    print('\\n'+'~`'*25)\n",
    "    print(\"Traceback\")\n",
    "    global color\n",
    "    print(\" \" + \" \".join(seq2))\n",
    "    for i in range(len(ptr)) :\n",
    "        if (i > 0) :\n",
    "            print (seq1[i-1] + \" \",end=\"\")\n",
    "        if (i == 0) :\n",
    "            print(\"  \",end=\"\")\n",
    "        for j in range(len(ptr[i])) :\n",
    "            if color and ptr[i,j] >= 3 :\n",
    "                print(\" \" + colored(arrows[ptr[i,j]-3], 'green' ),\n",
    "                      end=\"\")\n",
    "            else :\n",
    "                if ptr[i,j] >=3 :\n",
    "                    ptr[i,j] -=3\n",
    "                print(\" \" + arrows[ptr[i,j]],end=\"\")\n",
    "        print() \n",
    "\n",
    "def show_dp_matrix(s, seq1, seq2) :\n",
    "\n",
    "    print('\\n'+'~`'*25)\n",
    "    print(\"DP matrix\")\n",
    "    print(\"         \" + \"    \".join(seq2))\n",
    "    for i in range(len(s)) :\n",
    "        if (i > 0) :\n",
    "            print(seq1[i-1] + \" \",end=\"\")\n",
    "        if (i == 0) :\n",
    "            print(\"  \",end=\"\")\n",
    "        for j in range(len(s[i])) :\n",
    "            print(\" \" + \"% 2.1f\" % s[i,j],end=\"\")\n",
    "        print() \n",
    "    "
   ]
  },
  {
   "cell_type": "code",
   "execution_count": 4,
   "metadata": {},
   "outputs": [],
   "source": [
    "def needleman_wunsch(seq1, seq2, match=1, mismatch=-1, indel=-1,\n",
    "                     verbose=True) :\n",
    "    \"\"\"\n",
    "    computes an optimal global alignment of two sequences using \n",
    "    the Needleman-Wunsch algorithm\n",
    "    returns the alignment and its score\n",
    "    \"\"\"\n",
    "    s,ptr = needleman_wunsch_matrix(seq1, seq2, \n",
    "                                    match, mismatch, indel)\n",
    "    alignment = needleman_wunsch_trace(seq1, seq2, s, ptr)\n",
    "\n",
    "    if verbose :\n",
    "        show_dp_matrix(s, seq1, seq2)\n",
    "        show_ptr_matrix(ptr, seq1, seq2)\n",
    "        print('\\n'+'~`'*25)\n",
    "        print(\"Alignment Score: %f\\n\" % (s[len(seq1),len(seq2)]))\n",
    "        print(\"Alignment:\")\n",
    "        print(alignment[0])\n",
    "        print(alignment[1])\n",
    "    \n",
    "    return alignment, s[len(seq1), len(seq2)]\n"
   ]
  },
  {
   "cell_type": "code",
   "execution_count": 5,
   "metadata": {},
   "outputs": [],
   "source": [
    "from random import randint\n",
    "def random_DNA_sequence(length):\n",
    "    \"\"\"\n",
    "    Returns a random DNA of the given length.\n",
    "    \"\"\"\n",
    "    nucleotides = ['A','T','G','C']\n",
    "    seq = [ nucleotides[randint(0,3)] for i in range(length) ]\n",
    "    return ''.join(seq)"
   ]
  },
  {
   "cell_type": "code",
   "execution_count": 6,
   "metadata": {},
   "outputs": [],
   "source": [
    "seq1 = random_DNA_sequence(10)\n",
    "seq2 = random_DNA_sequence(10)"
   ]
  },
  {
   "cell_type": "code",
   "execution_count": 7,
   "metadata": {},
   "outputs": [
    {
     "name": "stdout",
     "output_type": "stream",
     "text": [
      "\n",
      "~`~`~`~`~`~`~`~`~`~`~`~`~`~`~`~`~`~`~`~`~`~`~`~`~`\n",
      "DP matrix\n",
      "         A    T    G    T    C    G    C    T    T    A\n",
      "    0.0 -1.0 -2.0 -3.0 -4.0 -5.0 -6.0 -7.0 -8.0 -9.0 -10.0\n",
      "A  -1.0  1.0  0.0 -1.0 -2.0 -3.0 -4.0 -5.0 -6.0 -7.0 -8.0\n",
      "T  -2.0  0.0  2.0  1.0  0.0 -1.0 -2.0 -3.0 -4.0 -5.0 -6.0\n",
      "A  -3.0 -1.0  1.0  1.0  0.0 -1.0 -2.0 -3.0 -4.0 -5.0 -4.0\n",
      "C  -4.0 -2.0  0.0  0.0  0.0  1.0  0.0 -1.0 -2.0 -3.0 -4.0\n",
      "A  -5.0 -3.0 -1.0 -1.0 -1.0  0.0  0.0 -1.0 -2.0 -3.0 -2.0\n",
      "C  -6.0 -4.0 -2.0 -2.0 -2.0  0.0 -1.0  1.0  0.0 -1.0 -2.0\n",
      "T  -7.0 -5.0 -3.0 -3.0 -1.0 -1.0 -1.0  0.0  2.0  1.0  0.0\n",
      "C  -8.0 -6.0 -4.0 -4.0 -2.0  0.0 -1.0  0.0  1.0  1.0  0.0\n",
      "C  -9.0 -7.0 -5.0 -5.0 -3.0 -1.0 -1.0  0.0  0.0  0.0  0.0\n",
      "G  -10.0 -8.0 -6.0 -4.0 -4.0 -2.0  0.0 -1.0 -1.0 -1.0 -1.0\n",
      "\n",
      "~`~`~`~`~`~`~`~`~`~`~`~`~`~`~`~`~`~`~`~`~`~`~`~`~`\n",
      "Traceback\n",
      " A T G T C G C T T A\n",
      "   ↖ ← ← ← ← ← ← ← ← ← ←\n",
      "A  ↑ \u001b[32m↖\u001b[0m ← ← ← ← ← ← ← ← ↖\n",
      "T  ↑ ↑ \u001b[32m↖\u001b[0m \u001b[32m←\u001b[0m ↖ ← ← ← ↖ ↖ ←\n",
      "A  ↑ ↖ ↑ ↖ \u001b[32m↖\u001b[0m ↖ ↖ ↖ ↖ ↖ ↖\n",
      "C  ↑ ↑ ↑ ↖ ↖ \u001b[32m↖\u001b[0m ← ↖ ← ← ←\n",
      "A  ↑ ↖ ↑ ↖ ↖ ↑ \u001b[32m↖\u001b[0m ↖ ↖ ↖ ↖\n",
      "C  ↑ ↑ ↑ ↖ ↖ ↖ ↖ \u001b[32m↖\u001b[0m ← ← ←\n",
      "T  ↑ ↑ ↖ ↖ ↖ ↑ ↖ ↑ \u001b[32m↖\u001b[0m ↖ ←\n",
      "C  ↑ ↑ ↑ ↖ ↑ ↖ ← ↖ \u001b[32m↑\u001b[0m ↖ ↖\n",
      "C  ↑ ↑ ↑ ↖ ↑ ↖ ↖ ↖ ↑ \u001b[32m↖\u001b[0m ↖\n",
      "G  ↑ ↑ ↑ ↖ ↑ ↑ ↖ ↑ ↖ ↖ \u001b[32m↖\u001b[0m\n",
      "\n",
      "~`~`~`~`~`~`~`~`~`~`~`~`~`~`~`~`~`~`~`~`~`~`~`~`~`\n",
      "Alignment Score: -1.000000\n",
      "\n",
      "Alignment:\n",
      "AT-ACACTCCG\n",
      "ATGTCGCT-TA\n"
     ]
    },
    {
     "data": {
      "text/plain": [
       "(('AT-ACACTCCG', 'ATGTCGCT-TA'), -1.0)"
      ]
     },
     "execution_count": 7,
     "metadata": {},
     "output_type": "execute_result"
    }
   ],
   "source": [
    "needleman_wunsch(seq1, seq2, 1, -1, -1)"
   ]
  },
  {
   "cell_type": "code",
   "execution_count": 8,
   "metadata": {},
   "outputs": [
    {
     "name": "stdout",
     "output_type": "stream",
     "text": [
      "\n",
      "~`~`~`~`~`~`~`~`~`~`~`~`~`~`~`~`~`~`~`~`~`~`~`~`~`\n",
      "DP matrix\n",
      "         A    T    G    T    C    G    C    T    T    A\n",
      "    0.0 -0.1 -0.2 -0.3 -0.4 -0.5 -0.6 -0.7 -0.8 -0.9 -1.0\n",
      "A  -0.1  1.0  0.9  0.8  0.7  0.6  0.5  0.4  0.3  0.2  0.1\n",
      "T  -0.2  0.9  2.0  1.9  1.8  1.7  1.6  1.5  1.4  1.3  1.2\n",
      "A  -0.3  0.8  1.9  1.8  1.7  1.6  1.5  1.4  1.3  1.2  2.3\n",
      "C  -0.4  0.7  1.8  1.7  1.6  2.7  2.6  2.5  2.4  2.3  2.2\n",
      "A  -0.5  0.6  1.7  1.6  1.5  2.6  2.5  2.4  2.3  2.2  3.3\n",
      "C  -0.6  0.5  1.6  1.5  1.4  2.5  2.4  3.5  3.4  3.3  3.2\n",
      "T  -0.7  0.4  1.5  1.4  2.5  2.4  2.3  3.4  4.5  4.4  4.3\n",
      "C  -0.8  0.3  1.4  1.3  2.4  3.5  3.4  3.3  4.4  4.3  4.2\n",
      "C  -0.9  0.2  1.3  1.2  2.3  3.4  3.3  4.4  4.3  4.2  4.1\n",
      "G  -1.0  0.1  1.2  2.3  2.2  3.3  4.4  4.3  4.2  4.1  4.0\n",
      "\n",
      "~`~`~`~`~`~`~`~`~`~`~`~`~`~`~`~`~`~`~`~`~`~`~`~`~`\n",
      "Traceback\n",
      " A T G T C G C T T A\n",
      "   ↖ ← ← ← ← ← ← ← ← ← ←\n",
      "A  ↑ \u001b[32m↖\u001b[0m \u001b[32m←\u001b[0m \u001b[32m←\u001b[0m ← ← ← ← ← ← ←\n",
      "T  ↑ ↑ ↖ ← \u001b[32m↖\u001b[0m ← ← ← ↖ ↖ ←\n",
      "A  ↑ ↖ ↑ ↑ \u001b[32m↑\u001b[0m ↑ ↑ ↑ ↑ ↑ ↖\n",
      "C  ↑ ↑ ↑ ↑ ↑ \u001b[32m↖\u001b[0m \u001b[32m←\u001b[0m ↖ ← ← ↑\n",
      "A  ↑ ↑ ↑ ↑ ↑ ↑ \u001b[32m↑\u001b[0m ↑ ↑ ↑ ↖\n",
      "C  ↑ ↑ ↑ ↑ ↑ ↖ ↑ \u001b[32m↖\u001b[0m \u001b[32m←\u001b[0m ← ↑\n",
      "T  ↑ ↑ ↖ ← ↖ ↑ ↑ ↑ ↖ \u001b[32m↖\u001b[0m \u001b[32m←\u001b[0m\n",
      "C  ↑ ↑ ↑ ↑ ↑ ↖ ← ↖ ↑ ↑ \u001b[32m↑\u001b[0m\n",
      "C  ↑ ↑ ↑ ↑ ↑ ↖ ↑ ↖ ↑ ↑ \u001b[32m↑\u001b[0m\n",
      "G  ↑ ↑ ↑ ↖ ← ↑ ↖ ↑ ↑ ↑ \u001b[32m↑\u001b[0m\n",
      "\n",
      "~`~`~`~`~`~`~`~`~`~`~`~`~`~`~`~`~`~`~`~`~`~`~`~`~`\n",
      "Alignment Score: 4.000000\n",
      "\n",
      "Alignment:\n",
      "A--TAC-AC-T-CCG\n",
      "ATGT-CG-CTTA---\n"
     ]
    },
    {
     "data": {
      "text/plain": [
       "(('A--TAC-AC-T-CCG', 'ATGT-CG-CTTA---'), 4.000000000000002)"
      ]
     },
     "execution_count": 8,
     "metadata": {},
     "output_type": "execute_result"
    }
   ],
   "source": [
    "needleman_wunsch(seq1, seq2, 1, -1, -0.1)"
   ]
  }
 ],
 "metadata": {
  "celltoolbar": "Create Assignment",
  "kernelspec": {
   "display_name": "Python 3",
   "language": "python",
   "name": "python3"
  },
  "language_info": {
   "codemirror_mode": {
    "name": "ipython",
    "version": 3
   },
   "file_extension": ".py",
   "mimetype": "text/x-python",
   "name": "python",
   "nbconvert_exporter": "python",
   "pygments_lexer": "ipython3",
   "version": "3.7.6"
  }
 },
 "nbformat": 4,
 "nbformat_minor": 2
}
