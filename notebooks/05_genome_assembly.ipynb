{
 "cells": [
  {
   "cell_type": "markdown",
   "metadata": {},
   "source": [
    "# Sequence assembly\n",
    "\n"
   ]
  },
  {
   "cell_type": "markdown",
   "metadata": {},
   "source": [
    "## Problem 1\n",
    "\n",
    "Modern shotgun sequencing proceeds by breaking down a genome into short pieces that are then sequenced and assembled.\n",
    "Suppose you are given the following set of reads:\n",
    "\n",
    "    ATTTCTCA\n",
    "    GAACAGAG\n",
    "    GTAAGTAA\n",
    "    TAAAAAAT\n",
    "    AAATTTCT\n",
    "    CTCAAGAA\n",
    "\n",
    "How would you go about and assembling the genome from which these reads were generated?\n"
   ]
  },
  {
   "cell_type": "markdown",
   "metadata": {},
   "source": [
    "*your answer here*"
   ]
  },
  {
   "cell_type": "markdown",
   "metadata": {},
   "source": [
    "## Problem 2\n",
    "\n",
    "Suppose you are given the following set of reads:\n",
    "\n",
    "    AAACT\n",
    "    AAAGG\n",
    "    AAAGT\n",
    "    AAATT\n",
    "    CCAAA\n",
    "    CTAAA\n",
    "    GGAAA\n",
    "    TTAAA\n",
    "\n",
    "How many assemblies are there for this set of reads?\n"
   ]
  },
  {
   "cell_type": "markdown",
   "metadata": {},
   "source": [
    "*your answer here*"
   ]
  },
  {
   "cell_type": "markdown",
   "metadata": {},
   "source": [
    "## Problem 3\n",
    "\n",
    "What are the consequences of sequencing errors on your ability to assemble a genome using the technique you used above?\n"
   ]
  },
  {
   "cell_type": "markdown",
   "metadata": {},
   "source": [
    "*your answer here*"
   ]
  },
  {
   "cell_type": "markdown",
   "metadata": {},
   "source": [
    "## Problem 4\n",
    "\n",
    "When sequencing a genome, the reads you have can originate from either strand of the genome.  How does that complicate things?  How could you potentially solve this issue?"
   ]
  },
  {
   "cell_type": "markdown",
   "metadata": {},
   "source": [
    "*your answer here*"
   ]
  }
 ],
 "metadata": {
  "kernelspec": {
   "display_name": "Python 3",
   "language": "python",
   "name": "python3"
  },
  "language_info": {
   "codemirror_mode": {
    "name": "ipython",
    "version": 3
   },
   "file_extension": ".py",
   "mimetype": "text/x-python",
   "name": "python",
   "nbconvert_exporter": "python",
   "pygments_lexer": "ipython3",
   "version": "3.7.6"
  }
 },
 "nbformat": 4,
 "nbformat_minor": 4
}
