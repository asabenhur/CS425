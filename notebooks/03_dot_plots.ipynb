{
 "cells": [
  {
   "cell_type": "markdown",
   "metadata": {},
   "source": [
    "<a href=\"https://colab.research.google.com/github//asabenhur/CS425/blob/master/notebooks/03_dot_plots.ipynb\">\n",
    "  <img align=\"left\" src=\"https://colab.research.google.com/assets/colab-badge.svg\" alt=\"Open In Colab\"/>\n",
    "</a>"
   ]
  },
  {
   "cell_type": "markdown",
   "metadata": {
    "nbgrader": {
     "grade": false,
     "grade_id": "cell-35bd2cc21b2e9063",
     "locked": true,
     "schema_version": 3,
     "solution": false
    }
   },
   "source": [
    "# Dot plots as a tool for visualizing sequence similarity\n",
    "\n",
    "The objective of this notebook is for you to familiarize yourself with *dot plots* and how they can be used to understand the relationship between sequences."
   ]
  },
  {
   "cell_type": "code",
   "execution_count": 1,
   "metadata": {
    "nbgrader": {
     "grade": false,
     "grade_id": "cell-ee7308ced81b5cf9",
     "locked": true,
     "schema_version": 3,
     "solution": false
    }
   },
   "outputs": [],
   "source": [
    "import matplotlib.pyplot as plt \n",
    "import numpy as np\n",
    "%matplotlib inline"
   ]
  },
  {
   "cell_type": "code",
   "execution_count": 5,
   "metadata": {},
   "outputs": [],
   "source": [
    "\"\"\"\n",
    "A parser for FASTA files.\n",
    "\n",
    "It can handle files that are local or on the web.\n",
    "Gzipped files do not need to be unzipped.\n",
    "\"\"\"\n",
    "\n",
    "import os\n",
    "from urllib.request import urlopen\n",
    "\n",
    "def myopen(fileName) :\n",
    "\n",
    "    if not ( os.path.exists(fileName) and os.path.isfile(fileName) ):\n",
    "        raise ValueError('file does not exist at %s' % fileName)\n",
    "    \n",
    "    import gzip\n",
    "    fileHandle = gzip.GzipFile(fileName)\n",
    "\n",
    "    gzippedFile = True\n",
    "    try :\n",
    "        line = fileHandle.readline()\n",
    "        fileHandle.close()\n",
    "    except :\n",
    "        gzippedFile = False\n",
    "\n",
    "    if gzippedFile :\n",
    "        return gzip.GzipFile(fileName)\n",
    "    else :\n",
    "        return open(fileName)\n",
    "\n",
    "\n",
    "class MalformedInput :\n",
    "    \"Exception raised when the input file does not look like a fasta file.\"\n",
    "    pass\n",
    "\n",
    "class FastaRecord :\n",
    "    \"\"\"Represents a record in a fasta file.\"\"\"\n",
    "    def __init__(self, header, sequence):\n",
    "        \"\"\"Create a record with the given header and sequence.\"\"\"\n",
    "        self.header = header\n",
    "        self.sequence = sequence\n",
    "    def __str__(self) :\n",
    "        return '>' + self.header + '\\n' + self.sequence + '\\n'\n",
    "\n",
    "    \n",
    "def _fasta_itr_from_file(file_handle) :\n",
    "    \"Provide an iteration through the fasta records in file.\"\n",
    "\n",
    "    h = file_handle.readline()[:-1]\n",
    "    if h[0] != '>':\n",
    "        raise MalformedInput()\n",
    "    h = h[1:]\n",
    "\n",
    "    seq = []\n",
    "    for line in file_handle:\n",
    "        line = line[:-1] # remove newline\n",
    "        if line[0] == '>':\n",
    "            yield FastaRecord(h,''.join(seq))\n",
    "            h = line[1:]\n",
    "            seq = []\n",
    "            continue\n",
    "        seq.append(line)\n",
    "\n",
    "    yield FastaRecord(h,''.join(seq))\n",
    "\n",
    "        \n",
    "def _fasta_itr_from_web(file_handle) :\n",
    "    \"Iterate through a fasta file posted on the web.\"\n",
    "\n",
    "    h = file_handle.readline().decode(\"utf-8\")[:-1]\n",
    "    if h[0] != '>':\n",
    "        raise MalformedInput()\n",
    "    h = h[1:]\n",
    "\n",
    "    seq = []\n",
    "    for line in file_handle:\n",
    "        line = line.decode(\"utf-8\")[:-1] # remove newline\n",
    "        if line[0] == '>':\n",
    "            yield FastaRecord(h,''.join(seq))\n",
    "            h = line[1:]\n",
    "            seq = []\n",
    "            continue\n",
    "        seq.append(line)\n",
    "\n",
    "    yield FastaRecord(h,''.join(seq))\n",
    "\n",
    "\n",
    "\n",
    "def _fasta_itr_from_name(fname):\n",
    "    \"Iterate through a fasta file with the given name.\"\n",
    "\n",
    "    f = myopen(fname)\n",
    "    for rec in _fasta_itr_from_file(f) :\n",
    "        yield rec\n",
    "\n",
    "\n",
    "def _fasta_itr(src):\n",
    "    \"\"\"Provide an iteration through the fasta records in file `src'.\n",
    "    \n",
    "    Here `src' can be either a file name or a url of a file.\n",
    "    \"\"\"\n",
    "    if type(src) == str :\n",
    "        if src.find(\"http\")>=0 :\n",
    "            file_handle = urlopen(src)\n",
    "            return _fasta_itr_from_web(file_handle)\n",
    "        else :\n",
    "            return _fasta_itr_from_name(src)\n",
    "    else:\n",
    "        raise TypeError\n",
    "\n",
    "    \n",
    "class fasta_itr (object) :\n",
    "    \"\"\"An iterator through a Fasta file\"\"\"\n",
    "\n",
    "    def __init__(self, src) :\n",
    "        \"\"\"Create an iterator through the records in src.\"\"\"\n",
    "        self.__itr = _fasta_itr(src)\n",
    "\n",
    "    def __iter__(self) :\n",
    "        return self\n",
    "\n",
    "    def __next__(self) :\n",
    "        return self.__itr.__next__()"
   ]
  },
  {
   "cell_type": "markdown",
   "metadata": {},
   "source": [
    "### Dot plots\n",
    "\n",
    "<img style=\"float: right;\" src=\"https://upload.wikimedia.org/wikipedia/commons/3/33/Zinc-finger-dot-plot.png\" width=\"200\">\n",
    "\n",
    "A *dot plot* is a useful visualization technique for comparing a pair of sequences, $u$ and $v$.  In its simplest form, a dot plot is a scatterplot in which there is a point at coordinate $(i,j)$ if $u_i = v_j$.  Write a function below that returns a matrix of zeros and ones $A$ such that $A_{ij} = 1$ if $v_i = v_j$ and zero otherwise.\n"
   ]
  },
  {
   "cell_type": "markdown",
   "metadata": {
    "nbgrader": {
     "grade": false,
     "grade_id": "cell-3845d6f4801d76bd",
     "locked": true,
     "schema_version": 3,
     "solution": false
    }
   },
   "source": [
    "### Exercise:  Generating the matrix for a dot plot\n",
    "\n",
    "Write the code for the function shown below that computes the matrix for a dot plot.\n"
   ]
  },
  {
   "cell_type": "code",
   "execution_count": 2,
   "metadata": {
    "nbgrader": {
     "grade": false,
     "grade_id": "cell-45c3c74af1519ebc",
     "locked": false,
     "schema_version": 3,
     "solution": true
    }
   },
   "outputs": [],
   "source": [
    "def dot_plot_matrix(seq1, seq2):\n",
    "    \"\"\"\n",
    "    Computes the matrix for a dot plot of two sequences\n",
    "    Args:\n",
    "        seq1: the first string\n",
    "        seq2: the second string\n",
    "    Returns:\n",
    "        A matrix A such that A_ij = 1 if seq1[i] == seq2[j]\n",
    "        and zero otherwise\n",
    "    \"\"\"\n",
    "    A = np.zeros((len(seq1), len(seq2)))\n",
    "    \n",
    "    return A"
   ]
  },
  {
   "cell_type": "code",
   "execution_count": 3,
   "metadata": {
    "nbgrader": {
     "grade": true,
     "grade_id": "dot_plot_points",
     "locked": true,
     "points": 1,
     "schema_version": 3,
     "solution": false
    }
   },
   "outputs": [
    {
     "data": {
      "text/plain": [
       "array([[0., 0., 0., 0.],\n",
       "       [0., 0., 0., 0.],\n",
       "       [0., 0., 0., 0.],\n",
       "       [0., 0., 0., 0.]])"
      ]
     },
     "execution_count": 3,
     "metadata": {},
     "output_type": "execute_result"
    }
   ],
   "source": [
    "dot_plot_matrix(\"ACGT\", \"ACGT\")"
   ]
  },
  {
   "cell_type": "code",
   "execution_count": 4,
   "metadata": {},
   "outputs": [
    {
     "data": {
      "text/plain": [
       "array([[0., 0., 0., 0.],\n",
       "       [0., 0., 0., 0.],\n",
       "       [0., 0., 0., 0.],\n",
       "       [0., 0., 0., 0.]])"
      ]
     },
     "execution_count": 4,
     "metadata": {},
     "output_type": "execute_result"
    }
   ],
   "source": [
    "dot_plot_matrix(\"ACGT\", \"TGCA\")"
   ]
  },
  {
   "cell_type": "markdown",
   "metadata": {
    "nbgrader": {
     "grade": false,
     "grade_id": "cell-0dab514ae07832fb",
     "locked": true,
     "schema_version": 3,
     "solution": false
    }
   },
   "source": [
    "### Plotting a dot plot of alpha vs. delta globin proteins\n",
    "\n",
    "Included with this notebook is a FASTA-formatted file containing the amino acid sequences of human alpha and delta globin, which are related genes.  Next, we will create a dotplot of the amino acids sequences of these two genes.  To visualize the matrix use  matplotlib as shown here:"
   ]
  },
  {
   "cell_type": "code",
   "execution_count": 14,
   "metadata": {},
   "outputs": [
    {
     "data": {
      "image/png": "[encoded data removed]",
      "text/plain": [
       "<Figure size 288x288 with 1 Axes>"
      ]
     },
     "metadata": {
      "needs_background": "light"
     },
     "output_type": "display_data"
    }
   ],
   "source": [
    "from numpy.random import default_rng\n",
    "rng = default_rng()\n",
    "A = rng.choice([0, 1], p=[0.85, 0.15], size=(100,100))\n",
    "\n",
    "plt.matshow(A, cmap='gray_r');\n"
   ]
  },
  {
   "cell_type": "code",
   "execution_count": 17,
   "metadata": {
    "nbgrader": {
     "grade": false,
     "grade_id": "cell-73ee19c8317fbaf7",
     "locked": true,
     "schema_version": 3,
     "solution": false
    }
   },
   "outputs": [
    {
     "data": {
      "image/png": "[encoded data removed]",
      "text/plain": [
       "<Figure size 298.141x288 with 1 Axes>"
      ]
     },
     "metadata": {
      "needs_background": "light"
     },
     "output_type": "display_data"
    }
   ],
   "source": [
    "# read the globin sequences\n",
    "fasta_iterator = fasta_itr(\n",
    "    \"https://raw.githubusercontent.com/asabenhur/CS425/main/data/human_alpha_and_delta_globin.fasta\")\n",
    "seq1,seq2 = [record.sequence for record in fasta_iterator]\n",
    "\n",
    "# compute the dot plot matrix\n",
    "A = dot_plot_matrix(seq1, seq2)\n",
    "\n",
    "plt.matshow(A, cmap='gray_r');"
   ]
  },
  {
   "cell_type": "markdown",
   "metadata": {
    "nbgrader": {
     "grade": false,
     "grade_id": "cell-c772d46bbf95f800",
     "locked": true,
     "schema_version": 3,
     "solution": false
    }
   },
   "source": [
    "What do you notice in this dot plot?  Do these two genes appear to be related?\n",
    "\n",
    "*ENTER YOUR OBSERVATIONS HERE*"
   ]
  },
  {
   "cell_type": "markdown",
   "metadata": {
    "nbgrader": {
     "grade": false,
     "grade_id": "cell-0d4ad51d6016ebe3",
     "locked": true,
     "schema_version": 3,
     "solution": false
    }
   },
   "source": [
    "### Exercise: Generating dot plots using k-mer matches\n",
    "\n",
    "As a variation, we can generalize the approach to compute points at which there are identical length $k$ substrings in the two strings.  Setting $k > 1$ may allow us to filter out many of the spurious points in the plot you have created above."
   ]
  },
  {
   "cell_type": "code",
   "execution_count": 15,
   "metadata": {
    "nbgrader": {
     "grade": false,
     "grade_id": "cell-c06d23a5a2ede610",
     "locked": false,
     "schema_version": 3,
     "solution": true
    }
   },
   "outputs": [],
   "source": [
    "def dot_plot_kmer(seq1, seq2, k):\n",
    "    \"\"\"Computes the matrix for a dot plot that looks for \n",
    "    matching k-mers\n",
    "\n",
    "    Args:\n",
    "        seq1: the first string\n",
    "        seq2: the second string\n",
    "        k: the length of the substrings to compare\n",
    "    Returns:\n",
    "        A matrix A such that A_{ij} is nonzero iff there \n",
    "        is a length k kmer at position i in seq1 that is an\n",
    "        exact match to a kmer at position j in seq2\n",
    "    \"\"\"\n",
    "    pass"
   ]
  },
  {
   "cell_type": "code",
   "execution_count": 16,
   "metadata": {
    "nbgrader": {
     "grade": true,
     "grade_id": "dot_plot_kmer_points",
     "locked": true,
     "points": 1,
     "schema_version": 3,
     "solution": false
    }
   },
   "outputs": [],
   "source": [
    "dot_plot_kmer(\"ATCGTAGC\", \"ACGTAGCGG\", 3)"
   ]
  },
  {
   "cell_type": "markdown",
   "metadata": {
    "nbgrader": {
     "grade": false,
     "grade_id": "cell-b389ddaa7caa0c21",
     "locked": true,
     "schema_version": 3,
     "solution": false
    }
   },
   "source": [
    "### A k-mer dot plot of the alpha and delta globin sequences\n",
    "\n",
    "Now we will create a dotplot of the amino acids sequences of the two globin genes, with k-mer derived points, starting with $k = 2$."
   ]
  },
  {
   "cell_type": "code",
   "execution_count": null,
   "metadata": {},
   "outputs": [],
   "source": [
    "# code showing k-mer dot plots for the two globin sequences"
   ]
  },
  {
   "cell_type": "markdown",
   "metadata": {
    "nbgrader": {
     "grade": false,
     "grade_id": "p3_what_do_you_notice",
     "locked": true,
     "schema_version": 3,
     "solution": false
    }
   },
   "source": [
    "What do you notice in this dot plot compared to the plot from the first exercise?  What happens as you increase the value of $k$?\n",
    "\n",
    "*YOUR OBSERVATIONS HERE*"
   ]
  },
  {
   "cell_type": "code",
   "execution_count": null,
   "metadata": {},
   "outputs": [],
   "source": []
  }
 ],
 "metadata": {
  "celltoolbar": "Create Assignment",
  "kernelspec": {
   "display_name": "Python 3",
   "language": "python",
   "name": "python3"
  },
  "language_info": {
   "codemirror_mode": {
    "name": "ipython",
    "version": 3
   },
   "file_extension": ".py",
   "mimetype": "text/x-python",
   "name": "python",
   "nbconvert_exporter": "python",
   "pygments_lexer": "ipython3",
   "version": "3.7.6"
  }
 },
 "nbformat": 4,
 "nbformat_minor": 2
}
